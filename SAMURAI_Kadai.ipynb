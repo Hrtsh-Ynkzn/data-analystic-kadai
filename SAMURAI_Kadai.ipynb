{
  "nbformat": 4,
  "nbformat_minor": 0,
  "metadata": {
    "colab": {
      "provenance": []
    },
    "kernelspec": {
      "name": "python3",
      "display_name": "Python 3"
    },
    "language_info": {
      "name": "python"
    }
  },
  "cells": [
    {
      "cell_type": "code",
      "execution_count": 14,
      "metadata": {
        "colab": {
          "base_uri": "https://localhost:8080/"
        },
        "id": "Pg6d7z1DeOd3",
        "outputId": "abcc26b5-57de-43ac-89ed-664793548d5f"
      },
      "outputs": [
        {
          "output_type": "stream",
          "name": "stdout",
          "text": [
            "[[ 4  5  6  7]\n",
            " [12 17 22 27]\n",
            " [20 29 38 47]]\n",
            "最大値: 47\n"
          ]
        }
      ],
      "source": [
        "# data-analysis-basic-kadai\n",
        "# kadai_003\n",
        "\n",
        "# NumPyをインポート\n",
        "import numpy as np\n",
        "\n",
        "A = np.array([[0, 1],\n",
        "           [2, 3],\n",
        "           [4, 5]])\n",
        "\n",
        "# arange関数で数列を生成し、reshape関数で2×4行列に変換\n",
        "B = np.arange(8).reshape((2, 4))\n",
        "\n",
        "print(np.dot(A, B))\n",
        "\n",
        "# A @ Bでも計算可能。rabel関数で1次元配列に戻して、max関数で最大値を出力\n",
        "print(\"最大値:\", max((A @ B).ravel()))"
      ]
    },
    {
      "cell_type": "code",
      "source": [],
      "metadata": {
        "id": "xkqEYKCQfby0"
      },
      "execution_count": null,
      "outputs": []
    }
  ]
}